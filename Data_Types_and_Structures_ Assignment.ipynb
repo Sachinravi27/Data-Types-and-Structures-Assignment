{
  "nbformat": 4,
  "nbformat_minor": 0,
  "metadata": {
    "colab": {
      "provenance": []
    },
    "kernelspec": {
      "name": "python3",
      "display_name": "Python 3"
    },
    "language_info": {
      "name": "python"
    }
  },
  "cells": [
    {
      "cell_type": "markdown",
      "source": [
        "# **Data Types and Structures Questions**\n",
        "\n",
        "1. What are data structures, and why are they important?\n",
        "- Data structures are ways to store and arrange data in a program.\n",
        "They help to use and manage data easily and quickly.\n",
        "They are important because they make the program fast, simple, and better to handle big data.\n",
        "\n",
        "2.  Explain the difference between mutable and immutable data types with examples.\n",
        "- Mutable data types can be changed after they are made. Example: list.\n",
        "Immutable data types cannot be changed after they are made. Example: string, tuple.\n",
        "        Mutable\n",
        "       a = [1, 2, 3]\n",
        "       a[0] = 10  # This will work\n",
        "\n",
        "        Immutable\n",
        "       b = \"hello\"\n",
        "       b[0] = \"H\"  # This will give error\n",
        "\n",
        "\n"
      ],
      "metadata": {
        "id": "qfdLKiP6--1A"
      }
    },
    {
      "cell_type": "markdown",
      "source": [
        "3. What are the main differences between lists and tuples in Python?\n",
        "- Lists can be changed, but tuples cannot be changed. Lists use square brackets [] and tuples use round brackets (). Lists are mutable, tuples are immutable. Lists are mostly used when you need to update data. Tuples are used when data should stay fixed.\n",
        "\n",
        "4. Describe how dictionaries store data.\n",
        "- Dictionaries store data in key-value pairs. Each key has a value linked to it. You can get the value by using the key.\n",
        " Ex. my_dict = {\"name\": \"John\", \"age\": 25}.\n",
        " Here, \"name\" is the key, \"John\" is the value. Dictionaries store data in curly brackets {}. They are used to store related data together.\n",
        "\n",
        "5. Why might you use a set instead of a list in Python?\n",
        "- We use a set instead of a list when we need unique items. Sets do not allow duplicate values. Sets are also faster when we search for items.\n",
        "\n",
        "          Ex. my_set = {1, 2, 3}\n",
        "              my_list = [1, 2, 2, 3]\n",
        "In list, duplicates can stay. In set, duplicates are not allowed. So, use set when you need only unique values.\n",
        "\n",
        "6. What is a string in Python, and how is it different from a list?\n",
        "- A string in Python is a group of characters like words or sentences.\n",
        "Example: \"hello\" is a string.\n",
        "\n",
        " A list is a collection of items like numbers, strings, or both.\n",
        " Example: [1, 2, 3] is a list.\n",
        "\n",
        " Main difference:\n",
        "\n",
        "* String is immutable (cannot change it).\n",
        "* List is mutable (can change it).\n",
        "\n",
        " Also, in string, each character is connected like one word.\n",
        " In list, each item is separate.\n",
        "\n",
        "7. How do tuples ensure data integrity in Python?\n",
        "- Tuples ensure data integrity because they cannot be changed after they are  created.\n",
        " Once you make a tuple, you cannot add, remove, or change its items.\n",
        " This keeps the data safe and fixed.\n",
        "      my_tuple = (1, 2, 3)\n",
        "      my_tuple[0] = 10  # This will give error\n",
        "\n",
        "8. What is a hash table, and how does it relate to dictionaries in Python?\n",
        "- A hash table is a way to store data using a key. It finds data fast by using a hash value.\n",
        " In Python, dictionaries are made using hash tables.\n",
        "Each key in a dictionary is stored in a special way so Python can find the value quickly.\n",
        "\n",
        "    Example: my_dict = {\"name\": \"John\", \"age\": 25}\n",
        "\n",
        " The key like \"name\" is hashed in the background to find the value fast.\n",
        "So, dictionary = Python's hash table.\n",
        "\n",
        "9. Can lists contain different data types in Python?\n",
        "- Yes, lists can contain different data types in Python. Lists can hold   numbers, strings, booleans, and more in the same list.\n",
        "\n",
        "10.  Explain why strings are immutable in Python?\n",
        "- Strings are immutable in Python because once a string is made, it cannot be changed. If we try to change it, Python makes a new string instead of changing the old one. This keeps strings safe and fixed.\n",
        "\n",
        "11. What advantages do dictionaries offer over lists for certain tasks?\n",
        "- Dictionaries are better than lists when we need to find data fast using a key. In dictionaries, we can search by key quickly. In lists, we have to search by position, which is slower. Dictionaries also help to store related data together using key-value pairs.\n",
        "\n",
        "12. Describe a scenario where using a tuple would be preferable over a list.\n",
        "- A tuple is better when the data should not change.\n",
        "      Example: Storing days of the week or fixed settings.\n",
        "      days = (\"Monday\", \"Tuesday\", \"Wednesday\", \"Thursday\", \"Friday\", \"Saturday\", \"Sunday\")\n",
        "\n",
        "  When you want the data to stay safe and same always, tuple is the best choice.\n",
        "\n",
        "13. How do sets handle duplicate values in Python?\n",
        "- Sets in Python do not allow duplicate values.\n",
        " If you add the same value again, the set will keep only one copy.\n",
        " Sets always store unique items.\n",
        "\n",
        "14. How does the “in” keyword work differently for lists and dictionaries?\n",
        "- In a list, the “in” keyword checks if a value is present in the list.\n",
        "\n",
        "  In a dictionary, the “in” keyword checks if a key is present, not the value.\n",
        "\n",
        "  So,In list:  checks value.\n",
        "  In dictionary: checks key.\n",
        "\n",
        "15. Can you modify the elements of a tuple? Explain why or why not.\n",
        "- No, we cannot modify the elements of a tuple.\n",
        " Tuples are immutable in Python. Once a tuple is made, its elements cannot be changed, added, or removed. This keeps the data safe and fixed.\n",
        "\n",
        "16. What is a nested dictionary, and give an example of its use case?\n",
        "- A nested dictionary means a dictionary inside another dictionary.\n",
        " It is used to store data in groups, like details of many people.\n",
        "    \n",
        "    students = {\n",
        "    \"student1\": {\"name\": \"John\", \"age\": 20},\n",
        "\n",
        "    \"student2\": {\"name\": \"Alice\", \"age\": 22}\n",
        "}\n",
        "\n",
        " We use nested dictionaries when we need to keep connected data together.\n",
        "\n",
        "17. Describe the time complexity of accessing elements in a dictionary.\n",
        "- Accessing elements in a dictionary is very fast.\n",
        " The time complexity is O(1).\n",
        " This means Python can find the value directly using the key without searching through everything.\n",
        "\n",
        "18. In what situations are lists preferred over dictionaries?\n",
        "- Lists are preferred when we need to store items in order and we don’t need keys.\n",
        "\n",
        " Lists are good when we work with simple data like numbers or names in a sequence.\n",
        "\n",
        " Lists are also used when we need to go through items one by one.\n",
        "\n",
        "19. Why are dictionaries considered unordered, and how does that affect data retrieval?\n",
        "- Dictionaries are considered unordered because they don’t keep items in the order we add them. But Python still finds the data fast using keys, so order does not matter. We can get the correct value if we know the key, no need to worry about the order.\n",
        "\n",
        "20. Explain the difference between a list and a dictionary in terms of data retrieval.\n",
        "- In a list, we get data by using the position (index) like list[0].\n",
        "\n",
        " In a dictionary, we get data by using the key like dict[\"name\"].\n",
        "\n",
        " Lists search by number position. Dictionaries search by key, which is faster.\n",
        "\n",
        "\n"
      ],
      "metadata": {
        "id": "mLYYaTFB_zJA"
      }
    },
    {
      "cell_type": "markdown",
      "source": [
        "**Practical Questions**"
      ],
      "metadata": {
        "id": "Za3bPzXdg2xG"
      }
    },
    {
      "cell_type": "code",
      "source": [
        "# 1. Write a code to create a string with your name and print it.\n",
        "\n",
        "name = \"Sachin\"\n",
        "print(name)"
      ],
      "metadata": {
        "colab": {
          "base_uri": "https://localhost:8080/"
        },
        "id": "OjWxxXN2g7Am",
        "outputId": "a9fc009c-2daf-4b39-b7ad-b962c820d351"
      },
      "execution_count": 2,
      "outputs": [
        {
          "output_type": "stream",
          "name": "stdout",
          "text": [
            "Sachin\n"
          ]
        }
      ]
    },
    {
      "cell_type": "code",
      "source": [
        "# 2. Write a code to find the length of the string \"Hello World\".\n",
        "\n",
        "text = \"Hello World\"\n",
        "print(len(text))"
      ],
      "metadata": {
        "colab": {
          "base_uri": "https://localhost:8080/"
        },
        "id": "SNpKyODohwLK",
        "outputId": "07362450-774c-4c64-c30f-571b6735c8fb"
      },
      "execution_count": 3,
      "outputs": [
        {
          "output_type": "stream",
          "name": "stdout",
          "text": [
            "11\n"
          ]
        }
      ]
    },
    {
      "cell_type": "code",
      "source": [
        "# 3. Write a code to slice the first 3 characters from the string \"Python Programming\".\n",
        "\n",
        "text = \"Python Programming\"\n",
        "print(text[0:3])"
      ],
      "metadata": {
        "colab": {
          "base_uri": "https://localhost:8080/"
        },
        "id": "oV-GvBm0iBWp",
        "outputId": "be9d48df-c856-403d-bf0a-f08f2ce1ef93"
      },
      "execution_count": 4,
      "outputs": [
        {
          "output_type": "stream",
          "name": "stdout",
          "text": [
            "Pyt\n"
          ]
        }
      ]
    },
    {
      "cell_type": "code",
      "source": [
        "# 4. Write a code to convert the string \"hello\" to uppercase.\n",
        "\n",
        "text = \"hello\"\n",
        "print(text.upper())"
      ],
      "metadata": {
        "colab": {
          "base_uri": "https://localhost:8080/"
        },
        "id": "OHreiopeiOT3",
        "outputId": "a9d2fa60-fbc9-4468-cada-a8381d78fad9"
      },
      "execution_count": 5,
      "outputs": [
        {
          "output_type": "stream",
          "name": "stdout",
          "text": [
            "HELLO\n"
          ]
        }
      ]
    },
    {
      "cell_type": "code",
      "source": [
        "# 5. Write a code to replace the word \"apple\" with \"orange\" in the string \"I like apple\".\n",
        "\n",
        "text = \"I like apple\"\n",
        "print(text.replace(\"apple\", \"orange\"))"
      ],
      "metadata": {
        "colab": {
          "base_uri": "https://localhost:8080/"
        },
        "id": "6DzNq7btidWR",
        "outputId": "58bee0a5-8ff7-479b-daac-cf46f086a4e8"
      },
      "execution_count": 7,
      "outputs": [
        {
          "output_type": "stream",
          "name": "stdout",
          "text": [
            "I like orange\n"
          ]
        }
      ]
    },
    {
      "cell_type": "code",
      "source": [
        "# 6. Write a code to create a list with numbers 1 to 5 and print it.\n",
        "\n",
        "numbers = [1, 2, 3, 4, 5]\n",
        "print(numbers)"
      ],
      "metadata": {
        "colab": {
          "base_uri": "https://localhost:8080/"
        },
        "id": "XFUL8-5FiuDl",
        "outputId": "e3dfe5ea-2a6b-4442-959d-cf3c9cd8ccf3"
      },
      "execution_count": 8,
      "outputs": [
        {
          "output_type": "stream",
          "name": "stdout",
          "text": [
            "[1, 2, 3, 4, 5]\n"
          ]
        }
      ]
    },
    {
      "cell_type": "code",
      "source": [
        "# 7. Write a code to append the number 10 to the list [1, 2, 3, 4].\n",
        "\n",
        "numbers = [1, 2, 3, 4]\n",
        "numbers.append(10)\n",
        "print(numbers)"
      ],
      "metadata": {
        "colab": {
          "base_uri": "https://localhost:8080/"
        },
        "id": "dwKmlJqzi6HU",
        "outputId": "458b98c0-5be7-49bf-d728-017ccee70a55"
      },
      "execution_count": 10,
      "outputs": [
        {
          "output_type": "stream",
          "name": "stdout",
          "text": [
            "[1, 2, 3, 4, 10]\n"
          ]
        }
      ]
    },
    {
      "cell_type": "code",
      "source": [
        "# 8. Write a code to remove the number 3 from the list [1, 2, 3, 4, 5].\n",
        "\n",
        "numbers = [1, 2, 3, 4, 5]\n",
        "numbers.remove(3)\n",
        "print(numbers)"
      ],
      "metadata": {
        "colab": {
          "base_uri": "https://localhost:8080/"
        },
        "id": "do-cpuUVjCUb",
        "outputId": "91b7a766-62c2-455e-e43e-7cf97830f5e5"
      },
      "execution_count": 11,
      "outputs": [
        {
          "output_type": "stream",
          "name": "stdout",
          "text": [
            "[1, 2, 4, 5]\n"
          ]
        }
      ]
    },
    {
      "cell_type": "code",
      "source": [
        "# 9. Write a code to access the second element in the list ['a', 'b', 'c', 'd'].\n",
        "\n",
        "alphabet = ['a', 'b', 'c', 'd']\n",
        "print(alphabet[1])"
      ],
      "metadata": {
        "colab": {
          "base_uri": "https://localhost:8080/"
        },
        "id": "JQPvZGI4jMqJ",
        "outputId": "e9bb8f60-ad2c-4332-8285-08f5de5a9db3"
      },
      "execution_count": 12,
      "outputs": [
        {
          "output_type": "stream",
          "name": "stdout",
          "text": [
            "b\n"
          ]
        }
      ]
    },
    {
      "cell_type": "code",
      "source": [
        "# 10. Write a code to reverse the list [10, 20, 30, 40, 50].\n",
        "\n",
        "numbers = [10, 20, 30, 40, 50]\n",
        "numbers.reverse()\n",
        "print(numbers)"
      ],
      "metadata": {
        "colab": {
          "base_uri": "https://localhost:8080/"
        },
        "id": "NZUsrfSEjblx",
        "outputId": "0313cfbc-974d-4d42-aa7c-c38afddef05a"
      },
      "execution_count": 23,
      "outputs": [
        {
          "output_type": "stream",
          "name": "stdout",
          "text": [
            "[50, 40, 30, 20, 10]\n"
          ]
        }
      ]
    },
    {
      "cell_type": "code",
      "source": [
        "# 11. Write a code to create a tuple with the elements 100, 200, 300 and print it.\n",
        "\n",
        "my_tuple = (100, 200, 300)\n",
        "print(my_tuple)"
      ],
      "metadata": {
        "colab": {
          "base_uri": "https://localhost:8080/"
        },
        "id": "ErN-y-tplUNs",
        "outputId": "b240a16a-dcb1-412e-c1dc-333a5b1de502"
      },
      "execution_count": 25,
      "outputs": [
        {
          "output_type": "stream",
          "name": "stdout",
          "text": [
            "(100, 200, 300)\n"
          ]
        }
      ]
    },
    {
      "cell_type": "code",
      "source": [
        "# 12. Write a code to access the second-to-last element of the tuple ('red', 'green', 'blue', 'yellow').\n",
        "\n",
        "colors = ('red', 'green', 'blue', 'yellow')\n",
        "print(colors[-2])"
      ],
      "metadata": {
        "colab": {
          "base_uri": "https://localhost:8080/"
        },
        "id": "-vY5N71klc4w",
        "outputId": "9bc1c92e-405d-4e46-8443-f2a916b1aabf"
      },
      "execution_count": 26,
      "outputs": [
        {
          "output_type": "stream",
          "name": "stdout",
          "text": [
            "blue\n"
          ]
        }
      ]
    },
    {
      "cell_type": "code",
      "source": [
        "# 13. Write a code to find the minimum number in the tuple (10, 20, 5, 15).\n",
        "\n",
        "new_tuple = (10, 20, 5, 15)\n",
        "print(min(new_tuple))"
      ],
      "metadata": {
        "colab": {
          "base_uri": "https://localhost:8080/"
        },
        "id": "1ReOmWF4lzaW",
        "outputId": "9f45ec5e-9fc9-4684-e4de-8bdeb9be053c"
      },
      "execution_count": 31,
      "outputs": [
        {
          "output_type": "stream",
          "name": "stdout",
          "text": [
            "5\n"
          ]
        }
      ]
    },
    {
      "cell_type": "code",
      "source": [
        "# 14. Write a code to find the index of the element \"cat\" in the tuple ('dog', 'cat', 'rabbit').\n",
        "\n",
        "animals = ('dog', 'cat', 'rabbit')\n",
        "print(animals.index('cat'))"
      ],
      "metadata": {
        "colab": {
          "base_uri": "https://localhost:8080/"
        },
        "id": "4Dsz7h2Fm_IV",
        "outputId": "cce62deb-4423-447a-ef11-2960e31f9a64"
      },
      "execution_count": 32,
      "outputs": [
        {
          "output_type": "stream",
          "name": "stdout",
          "text": [
            "1\n"
          ]
        }
      ]
    },
    {
      "cell_type": "code",
      "source": [
        "# 15.  Write a code to create a tuple containing three different fruits and check if \"kiwi\" is in it.\n",
        "\n",
        "fruits = (\"apple\", \"banana\", \"orange\")\n",
        "print(\"kiwi\" in fruits)"
      ],
      "metadata": {
        "colab": {
          "base_uri": "https://localhost:8080/"
        },
        "id": "TJQtbGKhnOy8",
        "outputId": "6e909bd8-64c1-475d-ee45-fa4d618efc3e"
      },
      "execution_count": 36,
      "outputs": [
        {
          "output_type": "stream",
          "name": "stdout",
          "text": [
            "False\n"
          ]
        }
      ]
    },
    {
      "cell_type": "code",
      "source": [
        "# 16.  Write a code to create a set with the elements 'a', 'b', 'c' and print it.\n",
        "\n",
        "my_set = {'a', 'b', 'c'}\n",
        "print(my_set)"
      ],
      "metadata": {
        "colab": {
          "base_uri": "https://localhost:8080/"
        },
        "id": "ONW-u61gn_gH",
        "outputId": "bc8e5c75-5204-4468-8e00-8bb35d0e1cc0"
      },
      "execution_count": 37,
      "outputs": [
        {
          "output_type": "stream",
          "name": "stdout",
          "text": [
            "{'a', 'b', 'c'}\n"
          ]
        }
      ]
    },
    {
      "cell_type": "code",
      "source": [
        "# 17.  Write a code to clear all elements from the set {1, 2, 3, 4, 5}.\n",
        "\n",
        "my_set = {1, 2, 3, 4, 5}\n",
        "my_set.clear()\n",
        "print(my_set)"
      ],
      "metadata": {
        "colab": {
          "base_uri": "https://localhost:8080/"
        },
        "id": "XqKTnrM70al2",
        "outputId": "e4b45ef8-e748-4242-84fc-7a22885ccf79"
      },
      "execution_count": 38,
      "outputs": [
        {
          "output_type": "stream",
          "name": "stdout",
          "text": [
            "set()\n"
          ]
        }
      ]
    },
    {
      "cell_type": "code",
      "source": [
        "# 18.  Write a code to remove the element 4 from the set {1, 2, 3, 4}.\n",
        "\n",
        "my_set = {1, 2, 3, 4}\n",
        "my_set.remove(4)\n",
        "print(my_set)"
      ],
      "metadata": {
        "colab": {
          "base_uri": "https://localhost:8080/"
        },
        "id": "Hl3ZoG250irk",
        "outputId": "c15c74d2-2602-44ae-ba12-f8c07a27a590"
      },
      "execution_count": 39,
      "outputs": [
        {
          "output_type": "stream",
          "name": "stdout",
          "text": [
            "{1, 2, 3}\n"
          ]
        }
      ]
    },
    {
      "cell_type": "code",
      "source": [
        "# 19. Write a code to find the union of two sets {1, 2, 3} and {3, 4, 5}.\n",
        "\n",
        "set1 = {1, 2, 3}\n",
        "set2 = {3, 4, 5}\n",
        "print(set1.union(set2))"
      ],
      "metadata": {
        "colab": {
          "base_uri": "https://localhost:8080/"
        },
        "id": "9umZD1n_0pK8",
        "outputId": "559e2e29-04a8-437f-d4df-a13becf814df"
      },
      "execution_count": 40,
      "outputs": [
        {
          "output_type": "stream",
          "name": "stdout",
          "text": [
            "{1, 2, 3, 4, 5}\n"
          ]
        }
      ]
    },
    {
      "cell_type": "code",
      "source": [
        "# 20.  Write a code to find the intersection of two sets {1, 2, 3} and {2, 3, 4}.\n",
        "\n",
        "set3 = {1, 2, 3}\n",
        "set4 = {2, 3, 4}\n",
        "print(set3.intersection(set4))"
      ],
      "metadata": {
        "colab": {
          "base_uri": "https://localhost:8080/"
        },
        "id": "50clIlUH0vZj",
        "outputId": "82b8cc24-9102-4808-c838-7b76f0a9e730"
      },
      "execution_count": 42,
      "outputs": [
        {
          "output_type": "stream",
          "name": "stdout",
          "text": [
            "{2, 3}\n"
          ]
        }
      ]
    },
    {
      "cell_type": "code",
      "source": [
        "# 21. Write a code to create a dictionary with the keys \"name\", \"age\", and \"city\", and print it.\n",
        "\n",
        "my_dict = {\"name\": \"Sachin\", \"age\": 26, \"city\": \"Ranchi\"}\n",
        "print(my_dict)"
      ],
      "metadata": {
        "colab": {
          "base_uri": "https://localhost:8080/"
        },
        "id": "OeaftNK71JBP",
        "outputId": "02410487-fbd8-4db1-fd14-ff69622b53b5"
      },
      "execution_count": 44,
      "outputs": [
        {
          "output_type": "stream",
          "name": "stdout",
          "text": [
            "{'name': 'Sachin', 'age': 26, 'city': 'Ranchi'}\n"
          ]
        }
      ]
    },
    {
      "cell_type": "code",
      "source": [
        "# 22. Write a code to add a new key-value pair \"country\": \"USA\" to the dictionary {'name': 'John', 'age': 25}.\n",
        "\n",
        "my_dict1 = {'name': 'John', 'age': 25}\n",
        "my_dict1[\"country\"] = \"USA\"\n",
        "print(my_dict1)"
      ],
      "metadata": {
        "colab": {
          "base_uri": "https://localhost:8080/"
        },
        "id": "KmRDrJPX1bgk",
        "outputId": "88926ab0-e36f-4404-a125-0b90033b80ee"
      },
      "execution_count": 46,
      "outputs": [
        {
          "output_type": "stream",
          "name": "stdout",
          "text": [
            "{'name': 'John', 'age': 25, 'country': 'USA'}\n"
          ]
        }
      ]
    },
    {
      "cell_type": "code",
      "source": [
        "# 23. Write a code to access the value associated with the key \"name\" in the dictionary {'name': 'Alice', 'age': 30}.\n",
        "\n",
        "my_dict2 = {'name': 'Alice', 'age': 30}\n",
        "print(my_dict2[\"name\"])"
      ],
      "metadata": {
        "colab": {
          "base_uri": "https://localhost:8080/"
        },
        "id": "rwK-8yfT1xkR",
        "outputId": "562e594b-5a80-40d3-aa43-2b644a38bffe"
      },
      "execution_count": 47,
      "outputs": [
        {
          "output_type": "stream",
          "name": "stdout",
          "text": [
            "Alice\n"
          ]
        }
      ]
    },
    {
      "cell_type": "code",
      "source": [
        "# 24. Write a code to remove the key \"age\" from the dictionary {'name': 'Bob', 'age': 22, 'city': 'New York'}.\n",
        "\n",
        "my_dict = {'name': 'Bob', 'age': 22, 'city': 'New York'}\n",
        "my_dict.pop('age')\n",
        "print(my_dict)"
      ],
      "metadata": {
        "colab": {
          "base_uri": "https://localhost:8080/"
        },
        "id": "nr6nghDY1_Jv",
        "outputId": "5a13eb9a-2850-4bde-cc65-b15b16aef60d"
      },
      "execution_count": 48,
      "outputs": [
        {
          "output_type": "stream",
          "name": "stdout",
          "text": [
            "{'name': 'Bob', 'city': 'New York'}\n"
          ]
        }
      ]
    },
    {
      "cell_type": "code",
      "source": [
        "# 25.  Write a code to check if the key \"city\" exists in the dictionary {'name': 'Alice', 'city': 'Paris'}.\n",
        "\n",
        "my_dict = {'name': 'Alice', 'city': 'Paris'}\n",
        "\n",
        "if 'city' in my_dict:\n",
        "    print(\"Yes\")\n",
        "else:\n",
        "    print(\"No\")"
      ],
      "metadata": {
        "colab": {
          "base_uri": "https://localhost:8080/"
        },
        "id": "RIh2-ozy2lyZ",
        "outputId": "51a7536b-880e-453f-b500-7e43376b592e"
      },
      "execution_count": 51,
      "outputs": [
        {
          "output_type": "stream",
          "name": "stdout",
          "text": [
            "Yes\n"
          ]
        }
      ]
    },
    {
      "cell_type": "code",
      "source": [
        "# 26.  Write a code to create a list, a tuple, and a dictionary, and print them all.\n",
        "\n",
        "my_list = [1, 2, 3]\n",
        "my_tuple = (4, 5, 6)\n",
        "my_dict = {'a': 7, 'b': 8}\n",
        "\n",
        "print(my_list)\n",
        "print(my_tuple)\n",
        "print(my_dict)"
      ],
      "metadata": {
        "colab": {
          "base_uri": "https://localhost:8080/"
        },
        "id": "-R3C88Jw2yKT",
        "outputId": "d80a90eb-69ba-4e74-f2f8-e541b4604a12"
      },
      "execution_count": 52,
      "outputs": [
        {
          "output_type": "stream",
          "name": "stdout",
          "text": [
            "[1, 2, 3]\n",
            "(4, 5, 6)\n",
            "{'a': 7, 'b': 8}\n"
          ]
        }
      ]
    },
    {
      "cell_type": "code",
      "source": [
        "# 27.  Write a code to create a list of 5 random numbers between 1 and 100, sort it in ascending order, and print the result.\n",
        "\n",
        "import random\n",
        "\n",
        "numb = random.sample(range(1, 101), 5)\n",
        "numb.sort()\n",
        "print(numb)"
      ],
      "metadata": {
        "colab": {
          "base_uri": "https://localhost:8080/"
        },
        "id": "4TejsYaQ3UpD",
        "outputId": "729319dc-4658-41b9-e9b1-493c7272253f"
      },
      "execution_count": 56,
      "outputs": [
        {
          "output_type": "stream",
          "name": "stdout",
          "text": [
            "[27, 30, 35, 61, 64]\n"
          ]
        }
      ]
    },
    {
      "cell_type": "code",
      "source": [
        "# 28. . Write a code to create a list with strings and print the element at the third index.\n",
        "\n",
        "my_list = [\"apple\", \"banana\", \"orange\", \"grape\", \"kiwi\"]\n",
        "print(my_list[3])"
      ],
      "metadata": {
        "colab": {
          "base_uri": "https://localhost:8080/"
        },
        "id": "0FUL4No14ecg",
        "outputId": "15121154-0194-450b-c3b2-e947ac6be812"
      },
      "execution_count": 58,
      "outputs": [
        {
          "output_type": "stream",
          "name": "stdout",
          "text": [
            "grape\n"
          ]
        }
      ]
    },
    {
      "cell_type": "code",
      "source": [
        "# 29. Write a code to combine two dictionaries into one and print the result.\n",
        "\n",
        "dict1 = {'a': 1, 'b': 2}\n",
        "dict2 = {'c': 3, 'd': 4}\n",
        "\n",
        "dict1.update(dict2)\n",
        "\n",
        "print(dict1)"
      ],
      "metadata": {
        "colab": {
          "base_uri": "https://localhost:8080/"
        },
        "id": "TOMK6G8A4k-m",
        "outputId": "5f1ca4d0-ecfa-47a1-f138-f7bbbca96fe4"
      },
      "execution_count": 60,
      "outputs": [
        {
          "output_type": "stream",
          "name": "stdout",
          "text": [
            "{'a': 1, 'b': 2, 'c': 3, 'd': 4}\n"
          ]
        }
      ]
    },
    {
      "cell_type": "code",
      "source": [
        "# 30. Write a code to convert a list of strings into a set.\n",
        "\n",
        "my_list = [\"Cricket\", \"football\", \"Chess\", \"Tennis\", \"Chess\", \"Cricket\"]\n",
        "my_set = set(my_list)\n",
        "print(my_set)"
      ],
      "metadata": {
        "colab": {
          "base_uri": "https://localhost:8080/"
        },
        "id": "5nYdd17D5KDZ",
        "outputId": "8b6c7466-0b2a-4584-a287-eb7b2e7b2e21"
      },
      "execution_count": 62,
      "outputs": [
        {
          "output_type": "stream",
          "name": "stdout",
          "text": [
            "{'Tennis', 'Chess', 'Cricket', 'football'}\n"
          ]
        }
      ]
    }
  ]
}